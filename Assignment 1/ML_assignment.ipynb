{
  "nbformat": 4,
  "nbformat_minor": 0,
  "metadata": {
    "colab": {
      "name": "ML_assignment.ipynb",
      "provenance": [],
      "collapsed_sections": [
        "PCVwFTudF4nI",
        "k3ai4OgupWny",
        "Nn24y5o8cptA",
        "csShy5tlcZYs",
        "v9ujWhlbcsou",
        "laxCIy0lCx1f",
        "d0BpDg0Mc7eP",
        "3OYqHGzqNyTS",
        "-Fu6jHX28xv5",
        "Yj5Lx7JKfXY9"
      ]
    },
    "kernelspec": {
      "name": "python3",
      "display_name": "Python 3"
    },
    "language_info": {
      "name": "python"
    }
  },
  "cells": [
    {
      "cell_type": "markdown",
      "metadata": {
        "id": "XvLzuHsccPUu"
      },
      "source": [
        "# Machine Learning Assignment I: Decision Trees\n"
      ]
    },
    {
      "cell_type": "markdown",
      "metadata": {
        "id": "76FsI4HWznGK"
      },
      "source": [
        "Group Details\n",
        "1. 19CS30043 Shrinivas Khiste\n",
        "2. 19CS10050 Rupinder Goyal"
      ]
    },
    {
      "cell_type": "markdown",
      "metadata": {
        "id": "PCVwFTudF4nI"
      },
      "source": [
        "## Importing Libraries and Loading Data"
      ]
    },
    {
      "cell_type": "code",
      "metadata": {
        "id": "n1U7eWtNE8oq"
      },
      "source": [
        "import pandas as pd\n",
        "import seaborn as sns\n",
        "import numpy as np\n",
        "import math\n",
        "import matplotlib.pyplot as plt\n",
        "from sklearn.model_selection import train_test_split\n",
        "from collections import defaultdict\n"
      ],
      "execution_count": 106,
      "outputs": []
    },
    {
      "cell_type": "code",
      "metadata": {
        "id": "2TBqn0vXGCT-"
      },
      "source": [
        "col_names = [\"buying\", \"maint\", \"doors\", \"persons\", \"luggage_boot\", \"safety\", \"class value\"]"
      ],
      "execution_count": 107,
      "outputs": []
    },
    {
      "cell_type": "code",
      "metadata": {
        "colab": {
          "base_uri": "https://localhost:8080/",
          "height": 204
        },
        "id": "dBdmCbVsF6SB",
        "outputId": "5ea1790e-5e8a-48d8-faa9-122344149a98"
      },
      "source": [
        "df = pd.read_csv(\"car.data\", names = col_names)\n",
        "df.head()"
      ],
      "execution_count": 108,
      "outputs": [
        {
          "output_type": "execute_result",
          "data": {
            "text/html": [
              "<div>\n",
              "<style scoped>\n",
              "    .dataframe tbody tr th:only-of-type {\n",
              "        vertical-align: middle;\n",
              "    }\n",
              "\n",
              "    .dataframe tbody tr th {\n",
              "        vertical-align: top;\n",
              "    }\n",
              "\n",
              "    .dataframe thead th {\n",
              "        text-align: right;\n",
              "    }\n",
              "</style>\n",
              "<table border=\"1\" class=\"dataframe\">\n",
              "  <thead>\n",
              "    <tr style=\"text-align: right;\">\n",
              "      <th></th>\n",
              "      <th>buying</th>\n",
              "      <th>maint</th>\n",
              "      <th>doors</th>\n",
              "      <th>persons</th>\n",
              "      <th>luggage_boot</th>\n",
              "      <th>safety</th>\n",
              "      <th>class value</th>\n",
              "    </tr>\n",
              "  </thead>\n",
              "  <tbody>\n",
              "    <tr>\n",
              "      <th>0</th>\n",
              "      <td>vhigh</td>\n",
              "      <td>vhigh</td>\n",
              "      <td>2</td>\n",
              "      <td>2</td>\n",
              "      <td>small</td>\n",
              "      <td>low</td>\n",
              "      <td>unacc</td>\n",
              "    </tr>\n",
              "    <tr>\n",
              "      <th>1</th>\n",
              "      <td>vhigh</td>\n",
              "      <td>vhigh</td>\n",
              "      <td>2</td>\n",
              "      <td>2</td>\n",
              "      <td>small</td>\n",
              "      <td>med</td>\n",
              "      <td>unacc</td>\n",
              "    </tr>\n",
              "    <tr>\n",
              "      <th>2</th>\n",
              "      <td>vhigh</td>\n",
              "      <td>vhigh</td>\n",
              "      <td>2</td>\n",
              "      <td>2</td>\n",
              "      <td>small</td>\n",
              "      <td>high</td>\n",
              "      <td>unacc</td>\n",
              "    </tr>\n",
              "    <tr>\n",
              "      <th>3</th>\n",
              "      <td>vhigh</td>\n",
              "      <td>vhigh</td>\n",
              "      <td>2</td>\n",
              "      <td>2</td>\n",
              "      <td>med</td>\n",
              "      <td>low</td>\n",
              "      <td>unacc</td>\n",
              "    </tr>\n",
              "    <tr>\n",
              "      <th>4</th>\n",
              "      <td>vhigh</td>\n",
              "      <td>vhigh</td>\n",
              "      <td>2</td>\n",
              "      <td>2</td>\n",
              "      <td>med</td>\n",
              "      <td>med</td>\n",
              "      <td>unacc</td>\n",
              "    </tr>\n",
              "  </tbody>\n",
              "</table>\n",
              "</div>"
            ],
            "text/plain": [
              "  buying  maint doors persons luggage_boot safety class value\n",
              "0  vhigh  vhigh     2       2        small    low       unacc\n",
              "1  vhigh  vhigh     2       2        small    med       unacc\n",
              "2  vhigh  vhigh     2       2        small   high       unacc\n",
              "3  vhigh  vhigh     2       2          med    low       unacc\n",
              "4  vhigh  vhigh     2       2          med    med       unacc"
            ]
          },
          "metadata": {},
          "execution_count": 108
        }
      ]
    },
    {
      "cell_type": "markdown",
      "metadata": {
        "id": "k3ai4OgupWny"
      },
      "source": [
        "# Gain Functions"
      ]
    },
    {
      "cell_type": "markdown",
      "metadata": {
        "id": "Nn24y5o8cptA"
      },
      "source": [
        "## Utility Function"
      ]
    },
    {
      "cell_type": "code",
      "metadata": {
        "id": "CCTu8UgAY545"
      },
      "source": [
        "def getClassProportions(dataset):\n",
        "  totalSize, _ = dataset.shape\n",
        "  uniqueClassValues = dataset['class value'].unique()\n",
        "  vals=defaultdict(int)\n",
        "  for classvalue in uniqueClassValues:\n",
        "     num, _ = dataset[ dataset['class value'] == classvalue].shape\n",
        "     vals[classvalue]=num\n",
        "  return vals,totalSize"
      ],
      "execution_count": 109,
      "outputs": []
    },
    {
      "cell_type": "markdown",
      "metadata": {
        "id": "csShy5tlcZYs"
      },
      "source": [
        "## Gini Gain"
      ]
    },
    {
      "cell_type": "code",
      "metadata": {
        "id": "C_5RhOLb7Hlv"
      },
      "source": [
        "# This Function calculates gini index for a child node\n",
        "def gini_index_for_child(dataset):\n",
        "  totalSize, _ = dataset.shape                         # size of the dataset\n",
        "  uniqueClassValues = dataset['class value'].unique()  # unique class values\n",
        "  giniIndex = 1                                        # initial value of gini index\n",
        "  for classvalue in uniqueClassValues:\n",
        "    p, _ = dataset[ dataset['class value'] == classvalue].shape     # p is the number of rows with the particular class value\n",
        "    giniIndex = giniIndex - ( p / totalSize )  * ( p / totalSize )  # updating gini index\n",
        "\n",
        "  return giniIndex                                      # returning gini index\n",
        "\n",
        "# This Function calculates the value of gini index for an attribute\n",
        "def gini_index(dataset, column_name):   \n",
        "  totalSize, _ = dataset.shape         \n",
        "  uniqueValues = dataset[column_name].unique() # unique column values \n",
        "  giniIndex = 0                                # Initial value of gini index\n",
        "  split={}                                     # Saving the split info as a dictionary      \n",
        "  for columnValue in uniqueValues:      \n",
        "    _dataset = dataset[ dataset[column_name] == columnValue] # dataset with particular column value\n",
        "    split[columnValue] = _dataset                            # Save it as a split \n",
        "    size, _ = _dataset.shape                                 \n",
        "    giniValue = gini_index_for_child(_dataset)               # finding the gini_value for the child\n",
        "    giniIndex = giniIndex + size/ totalSize * giniValue      # updating gini index \n",
        "\n",
        "  return giniIndex,split\n",
        "\n",
        "# This Function calculates split for a node\n",
        "def bestSplitGiniIndex(dataset):\n",
        "  columns = dataset.columns            # all columns\n",
        "  columns = columns[:-1]               # do not consider the class value \n",
        "  best_split={}                        # To save the best split\n",
        "  best_gini=999                        # To save the best gini index\n",
        "  spit_column = None                   # To save the attribute that leads to the best split\n",
        "  for column in columns:\n",
        "    gini,split = gini_index(dataset, column)  # find gini_index with the particular column value\n",
        "    if(gini<best_gini):                # if gini index is better then save \n",
        "      split_column= column\n",
        "      best_gini = gini\n",
        "      best_split = split          \n",
        "  node={}                              # return the results as a decision tree node in the form of a dictionary\n",
        "  node['column']=split_column\n",
        "  node['gain']=best_gini\n",
        "  node['split']=best_split\n",
        "  node['isTerminal'] = False\n",
        "  node['class wise composition'],node['sample size']=getClassProportions(dataset)\n",
        "  return node"
      ],
      "execution_count": 163,
      "outputs": []
    },
    {
      "cell_type": "markdown",
      "metadata": {
        "id": "v9ujWhlbcsou"
      },
      "source": [
        "## Information Gain"
      ]
    },
    {
      "cell_type": "code",
      "metadata": {
        "id": "6SozR8_Ko-u3"
      },
      "source": [
        "# Function to calculate the entropy for a child node dataset\n",
        "def entropy(dataset):\n",
        "  entropyValue = 0                  # Initialising the entropy value to zero\n",
        "  totalSize, _ = dataset.shape      # Number of rows in the dataset\n",
        "  uniqueClassValues = dataset['class value'].unique()  # Unique class Values in the dataset\n",
        "  for classValue in uniqueClassValues:          \n",
        "    p, _ = dataset[dataset['class value'] == classValue].shape  # Number of rows with particular class value\n",
        "    p = p / totalSize                                           # probability \n",
        "    entropyValue = entropyValue - p * math.log(p,2)             # updating entropy\n",
        "\n",
        "  return entropyValue\n",
        "\n",
        "# Function to calculate value of information gain for an attribute\n",
        "def information_gain(dataset, column_name):\n",
        "  uniqueValues = dataset[column_name].unique()       # unique values of the column\n",
        "  totalSize, _ = dataset.shape                       # size of the dataset\n",
        "  infoGain = entropy(dataset)                        # initial infoGain ( parent entropy value)\n",
        "  split={}                      \n",
        "  for value in uniqueValues:                              # dividing for each value of the column\n",
        "    _dataset = dataset[dataset[column_name] == value]     # dataset with the particular column value\n",
        "    split[value] = _dataset\n",
        "    size, _ = _dataset.shape                              # size of the splitted dataset\n",
        "    entropyVal = entropy( _dataset)                       # Entropy of the splitted dataset\n",
        "    infoGain = infoGain - size/ totalSize * (entropyVal)  # updating infoGain\n",
        "  return infoGain,split\n",
        "\n",
        "# Function to calculate best split according to information gain\n",
        "def bestSplitInfoGain(dataset):\n",
        "  Columns = dataset.columns     # columns to be considered for splitting\n",
        "  Columns = Columns[:-1]        # do not consider class value\n",
        "  infoGain = []                 # it stores infogain for each column\n",
        "  split_column=None             # To save the attribute that leads to the best split\n",
        "  best_split={}                 # To save the best split\n",
        "  best_gain = 0                 # To save the best information gain\n",
        "  for column in Columns:        \n",
        "    currInfoGain,split = information_gain(dataset, column)  #finding the info gain for the particular column\n",
        "    if(best_gain<currInfoGain): # If gain is better then save\n",
        "      best_gain=currInfoGain\n",
        "      best_split=split\n",
        "      split_column = column\n",
        "  node={}                       # return the results as a decision tree node in the form of a dictionary\n",
        "  node['column']=split_column\n",
        "  node['gain']=best_gain\n",
        "  node['split']=best_split\n",
        "  node['isTerminal'] = False\n",
        "  node['class wise composition'],node['sample size']=getClassProportions(dataset)\n",
        "  return node"
      ],
      "execution_count": 164,
      "outputs": []
    },
    {
      "cell_type": "markdown",
      "metadata": {
        "id": "laxCIy0lCx1f"
      },
      "source": [
        "# Building a tree"
      ]
    },
    {
      "cell_type": "code",
      "metadata": {
        "id": "ummpFCaZHokK"
      },
      "source": [
        "# Function to create and return a terminal node \n",
        "def terminal_node(dataset, columnValue, parent):\n",
        "  node={}\n",
        "  node['columnValue']=columnValue\n",
        "  node['subtree size'] = 1\n",
        "  node['parent'] = parent\n",
        "  node['gain']=-1\n",
        "  node['split']=[]\n",
        "  node['isTerminal']=True\n",
        "  node['class wise composition'],node['sample size']=getClassProportions(dataset)\n",
        "\n",
        "  node['prediction'] = max(node['class wise composition'],key=lambda x: node['class wise composition'][x])\n",
        "  \n",
        "  return node"
      ],
      "execution_count": 166,
      "outputs": []
    },
    {
      "cell_type": "code",
      "metadata": {
        "id": "avXhlsL9WXh_"
      },
      "source": [
        "# Function to check if the data of the split corresponds to a pure leaf node\n",
        "# This is when all the class values in the data are the same\n",
        "def pure_leaf(data):\n",
        "  values = data['class value'].unique()\n",
        "  if len(values) == 1:\n",
        "    return True\n",
        "  return False"
      ],
      "execution_count": 167,
      "outputs": []
    },
    {
      "cell_type": "code",
      "metadata": {
        "id": "V2Z_4MYPdWkF"
      },
      "source": [
        "# Function to split the node recursively\n",
        "def split(data,depth, MaxDepth = None, criterion = \"gini\", columnValue = None, parent = None):\n",
        "  if (pure_leaf(data) == True):                           # check if it is a pure leaf\n",
        "    return terminal_node(data, columnValue, parent) , 1   # return terminal node\n",
        "  if (MaxDepth != None and depth == MaxDepth):            # check if max depth is reached\n",
        "    return terminal_node(data, columnValue, parent) , 1   # return terminal node\n",
        "  if criterion == \"gini\":                                 # get best split for gini gain\n",
        "    node = bestSplitGiniIndex(data)\n",
        "  elif criterion == \"entropy\":                            # get best split for entropy gain\n",
        "    node = bestSplitInfoGain(data)\n",
        "  else:                                                   # raise Exception if criteria is not valid\n",
        "    raise Exception(\"Criterion Is not valid.\")\n",
        "  node['parent'] = parent                                 # save parent \n",
        "  node['columnValue'] = columnValue                       # save column value\n",
        "  node['isTerminal']=False                                # save node whether it is terminal or not \n",
        "  child_nodes={}  \n",
        "  subTreeSize = 1\n",
        "  for value, child in node['split'].items():              # for all the data splits create a child node\n",
        "    if(len(child)==0):                                    # do not consider splits that have zero length\n",
        "      continue\n",
        "    child_node, size = split(child,depth+1 ,MaxDepth,criterion,value, node)    # split child node too\n",
        "    child_nodes[value] = child_node                                   # save it as a child\n",
        "    subTreeSize = subTreeSize + size                                  # maintain size\n",
        "  node['subtree size'] = subTreeSize                                  # save size\n",
        "  node['children']=child_nodes                                        # save child nodex\n",
        "\n",
        "  return node , subTreeSize "
      ],
      "execution_count": 168,
      "outputs": []
    },
    {
      "cell_type": "code",
      "metadata": {
        "id": "NNqkgo9peLrk"
      },
      "source": [
        "# Main Function to build the Tree\n",
        "def build_tree(data, MaxDepth = None, criterion = \"gini\"):\n",
        "  root , size  = split(data,0, MaxDepth,criterion)\n",
        "  return root"
      ],
      "execution_count": 169,
      "outputs": []
    },
    {
      "cell_type": "markdown",
      "metadata": {
        "id": "d0BpDg0Mc7eP"
      },
      "source": [
        "## Function To Print Tree"
      ]
    },
    {
      "cell_type": "code",
      "metadata": {
        "id": "suuRZ8C8eaWB"
      },
      "source": [
        "# Function to print the decision tree formed\n",
        "def printTree(root, depth = 0):\n",
        "  if(root['isTerminal']):         # if node is terminal then end\n",
        "    print(\"\\t\"*depth+\"Prediction: \",root['prediction'])\n",
        "    return\n",
        "  print(\"\\t\"*depth+\"Column: \"+root['column'],\", Gain: \"+str(root['gain']),\", Samples: \"+str(root['sample size']))\n",
        "  for value, child in root['children'].items():     # else print for each child\n",
        "    print(\"\\t\"*depth + root['column'] + \" == \" + value + \": \")\n",
        "    printTree(child,depth+1)"
      ],
      "execution_count": 170,
      "outputs": []
    },
    {
      "cell_type": "markdown",
      "metadata": {
        "id": "3OYqHGzqNyTS"
      },
      "source": [
        "# Prediction & Accuracy Functions\n"
      ]
    },
    {
      "cell_type": "code",
      "metadata": {
        "id": "SQ4n0QYlNxzJ"
      },
      "source": [
        "def predict(root, data):\n",
        "  prediction = pd.Series(dtype='float64')\n",
        "  for i, row in data.iterrows():\n",
        "    node = root\n",
        "    prediction.at[i] = None\n",
        "    while node['gain'] != -1:  # Terminal Node\n",
        "      col = node['column']\n",
        "      if row[col] not in node['children']: # child not available\n",
        "        prediction.at[i] = max(zip(node['class wise composition'].values(), node['class wise composition'].keys()))[1]\n",
        "        break\n",
        "      node = node['children'][row[col]]\n",
        "    if prediction[i] == None:\n",
        "      prediction.at[i] = node['prediction']\n",
        "  return prediction\n",
        "\n",
        "def accuracy(root, data):\n",
        "  predValues = predict(root,data)\n",
        "  actualValues = data['class value']\n",
        "  totalSize = predValues.size\n",
        "  count = predValues.eq(actualValues).value_counts().to_dict()[True]\n",
        "  acc = count/ totalSize\n",
        "  return acc"
      ],
      "execution_count": 171,
      "outputs": []
    },
    {
      "cell_type": "markdown",
      "metadata": {
        "id": "Aujy4J9eA_8l"
      },
      "source": [
        "# Pruning Functions"
      ]
    },
    {
      "cell_type": "code",
      "metadata": {
        "id": "snXxuEbpOQ92"
      },
      "source": [
        "# Function to get all the nodes whose all children are terminals of a decision tree\n",
        "def getTerminalPars(root):\n",
        "  terminalparents = []\n",
        "  Par = True\n",
        "  for value,child in root['children'].items(): # else add terminal nodes of all children\n",
        "    if child['isTerminal']:\n",
        "      continue\n",
        "    Par = False\n",
        "    child_terminalpars = getTerminalPars(child)\n",
        "    terminalparents.extend(child_terminalpars)\n",
        "  if Par:\n",
        "    terminalparents.append(root)\n",
        "  return terminalparents"
      ],
      "execution_count": 118,
      "outputs": []
    },
    {
      "cell_type": "code",
      "metadata": {
        "id": "wheAu4g6OYTX"
      },
      "source": [
        "# Function to prune the tree using Chi-squared statistical test\n",
        "uniqueClassValues = df['class value'].unique()\n",
        "ChiSquared = {1: 3.84, 2: 5.99, 3: 7.81, 4: 9.49, 5: 11.07, 6: 12.59, 7: 14.07, 8: 15.51, 9: 16.92, 10: 18.31}\n",
        "def pruneTreeStatisticalMethod(root):\n",
        "  while True:\n",
        "    terminalpars = getTerminalPars(root)\n",
        "    updated = False\n",
        "    for index, terminalpar in enumerate(terminalpars):\n",
        "      K = 0\n",
        "      for value, child in terminalpar['children'].items():\n",
        "        Pj = child['sample size']/terminalpar['sample size']\n",
        "        for classValue in uniqueClassValues:\n",
        "\n",
        "          Ni = terminalpar['class wise composition'][classValue]\n",
        "          Ndij = Ni * Pj\n",
        "          if Ndij == 0:\n",
        "            continue\n",
        "          Nij = child['class wise composition'][classValue]\n",
        "          K = K + (Nij - Ndij) * (Nij - Ndij) / Ndij\n",
        "      df = (len(terminalpar['children']) - 1) * 3\n",
        "\n",
        "      if K < ChiSquared[df] :\n",
        "        updated = True\n",
        "        print(\"Pruned Children of Node with split column as \"+ terminalpar['columnValue'])\n",
        "        terminalpar['children'].clear()\n",
        "        terminalpar['isTerminal'] = True\n",
        "        terminalpar['prediction'] = max(terminalpar['class wise composition'],key=lambda x: terminalpar['class wise composition'][x])\n",
        "        \n",
        "    if updated == False:\n",
        "      break\n",
        "\n",
        "  return root"
      ],
      "execution_count": 119,
      "outputs": []
    },
    {
      "cell_type": "code",
      "metadata": {
        "id": "PxqzjKglAk1Q"
      },
      "source": [
        "# Function get all the terminal nodes of a decision tree\n",
        "def getTerminals(root):\n",
        "  terminals = []\n",
        "  if(root['isTerminal']):                       # if node is terminal add to list and return\n",
        "    terminals.append(root)\n",
        "    return terminals\n",
        "  for value,child in root['children'].items(): # else add terminal nodes of all children\n",
        "    child_terminals = getTerminals(child)\n",
        "    terminals.extend(child_terminals)\n",
        "  return terminals"
      ],
      "execution_count": 159,
      "outputs": []
    },
    {
      "cell_type": "code",
      "metadata": {
        "id": "2y1II3vFM2wE"
      },
      "source": [
        "# Function to prune the tree according to test data\n",
        "def pruneTreeCV(root,data):\n",
        "  curr_acc = accuracy(root,data)\n",
        "  while True:\n",
        "    terminals = getTerminals(root)\n",
        "\n",
        "    best_acc=0\n",
        "    best_index=0\n",
        "\n",
        "    for index, terminal in enumerate(terminals):\n",
        "      # temporarily remove it\n",
        "      parent = terminal['parent']\n",
        "      del parent['children'][terminal['columnValue']]\n",
        "\n",
        "      # get accuracy\n",
        "      temp_acc = accuracy(root,data)\n",
        "\n",
        "      if temp_acc > best_acc:\n",
        "        best_index = index\n",
        "        best_acc = temp_acc\n",
        "      \n",
        "      # restore it\n",
        "      parent['children'][terminal['columnValue']]=terminal\n",
        "\n",
        "    if best_acc > curr_acc:     # if accuracy increases then prune permanently\n",
        "      print(\"Accuracy Improved (\" + str(curr_acc) + \" to \" + str(best_acc) + \"). Permanent Pruning\")\n",
        "      curr_acc =best_acc\n",
        "      # permanantly delete it \n",
        "      terminal = terminals[best_index]\n",
        "      parent = terminal['parent']\n",
        "      print(\"Removing Terminal Column Value: \"+ terminal['columnValue']+\" Parent Column: \"+parent['column'])\n",
        "      del parent['children'][terminal['columnValue']]\n",
        "      \n",
        "      # if all the children get pruned, mark it as terminal \n",
        "      if not parent['children']:\n",
        "        parent['isTerminal'] = True\n",
        "      if len(parent['children'])==0:\n",
        "        parent['isTerminal']=True\n",
        "    else:     # if accuracy has not increased then break\n",
        "      break\n",
        "  print(\"Final Accuracy: \",curr_acc)\n",
        "  return root,curr_acc"
      ],
      "execution_count": 160,
      "outputs": []
    },
    {
      "cell_type": "markdown",
      "metadata": {
        "id": "-Fu6jHX28xv5"
      },
      "source": [
        "# Questions"
      ]
    },
    {
      "cell_type": "markdown",
      "metadata": {
        "id": "Yj5Lx7JKfXY9"
      },
      "source": [
        "## 1. Random 80/20 split and building the tree"
      ]
    },
    {
      "cell_type": "code",
      "metadata": {
        "id": "vDQToYq4fr_i"
      },
      "source": [
        "df_train, df_test = train_test_split(df,test_size=0.2)\t\t\t"
      ],
      "execution_count": 143,
      "outputs": []
    },
    {
      "cell_type": "code",
      "metadata": {
        "colab": {
          "base_uri": "https://localhost:8080/",
          "height": 204
        },
        "id": "R5vVTMBNgIsA",
        "outputId": "afd4c1df-952d-4643-d04f-48331b9b1df6"
      },
      "source": [
        "df_train.head()"
      ],
      "execution_count": 144,
      "outputs": [
        {
          "output_type": "execute_result",
          "data": {
            "text/html": [
              "<div>\n",
              "<style scoped>\n",
              "    .dataframe tbody tr th:only-of-type {\n",
              "        vertical-align: middle;\n",
              "    }\n",
              "\n",
              "    .dataframe tbody tr th {\n",
              "        vertical-align: top;\n",
              "    }\n",
              "\n",
              "    .dataframe thead th {\n",
              "        text-align: right;\n",
              "    }\n",
              "</style>\n",
              "<table border=\"1\" class=\"dataframe\">\n",
              "  <thead>\n",
              "    <tr style=\"text-align: right;\">\n",
              "      <th></th>\n",
              "      <th>buying</th>\n",
              "      <th>maint</th>\n",
              "      <th>doors</th>\n",
              "      <th>persons</th>\n",
              "      <th>luggage_boot</th>\n",
              "      <th>safety</th>\n",
              "      <th>class value</th>\n",
              "    </tr>\n",
              "  </thead>\n",
              "  <tbody>\n",
              "    <tr>\n",
              "      <th>429</th>\n",
              "      <td>vhigh</td>\n",
              "      <td>low</td>\n",
              "      <td>5more</td>\n",
              "      <td>more</td>\n",
              "      <td>big</td>\n",
              "      <td>low</td>\n",
              "      <td>unacc</td>\n",
              "    </tr>\n",
              "    <tr>\n",
              "      <th>504</th>\n",
              "      <td>high</td>\n",
              "      <td>vhigh</td>\n",
              "      <td>4</td>\n",
              "      <td>more</td>\n",
              "      <td>small</td>\n",
              "      <td>low</td>\n",
              "      <td>unacc</td>\n",
              "    </tr>\n",
              "    <tr>\n",
              "      <th>1505</th>\n",
              "      <td>low</td>\n",
              "      <td>high</td>\n",
              "      <td>5more</td>\n",
              "      <td>more</td>\n",
              "      <td>small</td>\n",
              "      <td>high</td>\n",
              "      <td>acc</td>\n",
              "    </tr>\n",
              "    <tr>\n",
              "      <th>1686</th>\n",
              "      <td>low</td>\n",
              "      <td>low</td>\n",
              "      <td>4</td>\n",
              "      <td>4</td>\n",
              "      <td>med</td>\n",
              "      <td>low</td>\n",
              "      <td>unacc</td>\n",
              "    </tr>\n",
              "    <tr>\n",
              "      <th>423</th>\n",
              "      <td>vhigh</td>\n",
              "      <td>low</td>\n",
              "      <td>5more</td>\n",
              "      <td>more</td>\n",
              "      <td>small</td>\n",
              "      <td>low</td>\n",
              "      <td>unacc</td>\n",
              "    </tr>\n",
              "  </tbody>\n",
              "</table>\n",
              "</div>"
            ],
            "text/plain": [
              "     buying  maint  doors persons luggage_boot safety class value\n",
              "429   vhigh    low  5more    more          big    low       unacc\n",
              "504    high  vhigh      4    more        small    low       unacc\n",
              "1505    low   high  5more    more        small   high         acc\n",
              "1686    low    low      4       4          med    low       unacc\n",
              "423   vhigh    low  5more    more        small    low       unacc"
            ]
          },
          "metadata": {},
          "execution_count": 144
        }
      ]
    },
    {
      "cell_type": "code",
      "metadata": {
        "id": "iX0d2U4bYCxd"
      },
      "source": [
        "root_entropy = build_tree(df_train, criterion = \"entropy\")"
      ],
      "execution_count": 145,
      "outputs": []
    },
    {
      "cell_type": "code",
      "metadata": {
        "colab": {
          "base_uri": "https://localhost:8080/"
        },
        "id": "6mt6PN7Vsscy",
        "outputId": "37ecc67b-00d5-4e74-9c3c-65222fcc5d8a"
      },
      "source": [
        "accuracy(root_entropy, df_test)"
      ],
      "execution_count": 146,
      "outputs": [
        {
          "output_type": "execute_result",
          "data": {
            "text/plain": [
              "0.9190751445086706"
            ]
          },
          "metadata": {},
          "execution_count": 146
        }
      ]
    },
    {
      "cell_type": "code",
      "metadata": {
        "id": "bb0KAxNphnMc"
      },
      "source": [
        "root_gini = build_tree(df_train, criterion = \"gini\")"
      ],
      "execution_count": 147,
      "outputs": []
    },
    {
      "cell_type": "code",
      "metadata": {
        "colab": {
          "base_uri": "https://localhost:8080/"
        },
        "id": "NUq8Plh3tCAi",
        "outputId": "57136fa7-67f5-4c1f-b57f-0f55086d25a1"
      },
      "source": [
        "accuracy(root_gini, df_test)"
      ],
      "execution_count": 148,
      "outputs": [
        {
          "output_type": "execute_result",
          "data": {
            "text/plain": [
              "0.9161849710982659"
            ]
          },
          "metadata": {},
          "execution_count": 148
        }
      ]
    },
    {
      "cell_type": "markdown",
      "metadata": {
        "id": "x9wqc0E-iHAO"
      },
      "source": [
        "## 2. Average accuracy over 10 80/20 splits "
      ]
    },
    {
      "cell_type": "code",
      "metadata": {
        "id": "yf1iRN9XiNxe"
      },
      "source": [
        "def run_for_10_splits(df,criterion):\n",
        "  avg_acc = 0\n",
        "  best_acc = 0\n",
        "  best_tree = None\n",
        "  best_df_train = None\n",
        "  best_df_test = None\n",
        "  for i in range(10):\n",
        "    df_train, df_test = train_test_split(df,test_size=0.2)\n",
        "    root = build_tree(df_train,criterion)\n",
        "    acc = accuracy(root,df_test)\n",
        "\n",
        "    print(\"Iteration : \"+str(i+1)+\" Accuracy: \"+str(acc))\n",
        "    avg_acc+=acc\n",
        "    if acc > best_acc:\n",
        "      best_acc = acc\n",
        "      best_df_train = df_train\n",
        "      best_df_test = df_test\n",
        "      best_tree = root\n",
        "\n",
        "  print(\"\\nAverage Accuracy: \"+str(avg_acc/10))\n",
        "  print(\"Best Accuracy: \"+str(best_acc))\n",
        "  return avg_acc,best_acc, best_df_train, best_df_test, best_tree"
      ],
      "execution_count": 149,
      "outputs": []
    },
    {
      "cell_type": "markdown",
      "metadata": {
        "id": "GM4jpnoMjd0k"
      },
      "source": [
        "### Gini Index"
      ]
    },
    {
      "cell_type": "code",
      "metadata": {
        "colab": {
          "base_uri": "https://localhost:8080/"
        },
        "id": "f9MXGrWbjgbR",
        "outputId": "c2e82d8e-20dd-45be-cbf0-571330b9be9f"
      },
      "source": [
        "avg_acc_gini,best_acc_gini, best_df_train_gini, best_df_test_gini,best_tree_gini = run_for_10_splits(df,\"gini\")"
      ],
      "execution_count": 150,
      "outputs": [
        {
          "output_type": "stream",
          "name": "stdout",
          "text": [
            "Iteration : 1 Accuracy: 0.9566473988439307\n",
            "Iteration : 2 Accuracy: 0.9450867052023122\n",
            "Iteration : 3 Accuracy: 0.9248554913294798\n",
            "Iteration : 4 Accuracy: 0.9248554913294798\n",
            "Iteration : 5 Accuracy: 0.9104046242774566\n",
            "Iteration : 6 Accuracy: 0.9335260115606936\n",
            "Iteration : 7 Accuracy: 0.9190751445086706\n",
            "Iteration : 8 Accuracy: 0.9364161849710982\n",
            "Iteration : 9 Accuracy: 0.9335260115606936\n",
            "Iteration : 10 Accuracy: 0.9248554913294798\n",
            "\n",
            "Average Accuracy: 0.9309248554913294\n",
            "Best Accuracy: 0.9566473988439307\n"
          ]
        }
      ]
    },
    {
      "cell_type": "markdown",
      "metadata": {
        "id": "SFS7VhawjylB"
      },
      "source": [
        "### Information Gain"
      ]
    },
    {
      "cell_type": "code",
      "metadata": {
        "colab": {
          "base_uri": "https://localhost:8080/"
        },
        "id": "nOxlumppj1-H",
        "outputId": "97c13a0e-b653-4cf7-dd93-906c657a66d9"
      },
      "source": [
        "avg_acc_entropy ,best_acc_entropy, best_df_train_entropy, best_df_test_entropy, best_tree_entropy = run_for_10_splits(df,\"entropy\")"
      ],
      "execution_count": 151,
      "outputs": [
        {
          "output_type": "stream",
          "name": "stdout",
          "text": [
            "Iteration : 1 Accuracy: 0.9190751445086706\n",
            "Iteration : 2 Accuracy: 0.9075144508670521\n",
            "Iteration : 3 Accuracy: 0.930635838150289\n",
            "Iteration : 4 Accuracy: 0.9219653179190751\n",
            "Iteration : 5 Accuracy: 0.8901734104046243\n",
            "Iteration : 6 Accuracy: 0.9335260115606936\n",
            "Iteration : 7 Accuracy: 0.9075144508670521\n",
            "Iteration : 8 Accuracy: 0.9046242774566474\n",
            "Iteration : 9 Accuracy: 0.930635838150289\n",
            "Iteration : 10 Accuracy: 0.9393063583815029\n",
            "\n",
            "Average Accuracy: 0.9184971098265894\n",
            "Best Accuracy: 0.9393063583815029\n"
          ]
        }
      ]
    },
    {
      "cell_type": "markdown",
      "metadata": {
        "id": "moLHLkN0kKvq"
      },
      "source": [
        "We can see that Information Gain gives a better average and best accuracy over the 10 runs"
      ]
    },
    {
      "cell_type": "markdown",
      "metadata": {
        "id": "MIRN6lEL4IuN"
      },
      "source": [
        "### Storing tree with maximum accuracy"
      ]
    },
    {
      "cell_type": "code",
      "metadata": {
        "id": "i-GzLxtdyK9T"
      },
      "source": [
        "if best_acc_gini < best_acc_entropy:\n",
        "  grow_data = best_df_train_entropy\n",
        "  validation_data = best_df_test_entropy\n",
        "  best_tree = best_tree_entropy\n",
        "else:\n",
        "  grow_data = best_df_train_gini\n",
        "  validation_data = best_df_test_gini\n",
        "  best_tree = best_tree_gini"
      ],
      "execution_count": 157,
      "outputs": []
    },
    {
      "cell_type": "markdown",
      "metadata": {
        "id": "5ShhD7celpQC"
      },
      "source": [
        "## 3. Best Possible Depth Limit"
      ]
    },
    {
      "cell_type": "markdown",
      "metadata": {
        "id": "SZ6sXsexCQP0"
      },
      "source": [
        "### Using Gini Index"
      ]
    },
    {
      "cell_type": "code",
      "metadata": {
        "id": "MF8G5dRnXgHe",
        "colab": {
          "base_uri": "https://localhost:8080/",
          "height": 304
        },
        "outputId": "a4b3c24f-bd68-4cb2-8fa3-bf453b1f34f1"
      },
      "source": [
        "values = [i for i in range(20)]\n",
        "df = df.sample(frac = 1)\n",
        "x = int (0.8 * df.shape[0] )\n",
        "train_data = df[: x]\n",
        "test_data = df[ x : ]\n",
        "accuracies = []\n",
        "for i in values:\n",
        "  root = build_tree(train_data, i)\n",
        "  accuracyy = accuracy(root, test_data)\n",
        "  accuracies.append(accuracyy)\n",
        "xmax = values[accuracies.index(max(accuracies))]\n",
        "ymax = max(accuracies)\n",
        "plt.plot(values, accuracies)\n",
        "plt.xlabel(\"Height of the tree\")\n",
        "plt.ylabel(\"Accuracy (Using gini index)\")\n",
        "plt.plot(xmax, ymax, 'ro')\n",
        "plt.text(xmax, ymax + 0.01, \"({}, {})\".format(xmax, round(ymax, 2)))"
      ],
      "execution_count": 138,
      "outputs": [
        {
          "output_type": "execute_result",
          "data": {
            "text/plain": [
              "Text(5, 0.9464161849710983, '(5, 0.94)')"
            ]
          },
          "metadata": {},
          "execution_count": 138
        },
        {
          "output_type": "display_data",
          "data": {
            "image/png": "[encoded data removed]",
            "text/plain": [
              "<Figure size 432x288 with 1 Axes>"
            ]
          },
          "metadata": {
            "needs_background": "light"
          }
        }
      ]
    },
    {
      "cell_type": "markdown",
      "metadata": {
        "id": "hNbgryXZCVd3"
      },
      "source": [
        "### Using Information Gain"
      ]
    },
    {
      "cell_type": "code",
      "metadata": {
        "colab": {
          "base_uri": "https://localhost:8080/",
          "height": 303
        },
        "id": "dEpqri6HCaLP",
        "outputId": "bdfed9f4-0519-40c0-9be2-f419b5b9379d"
      },
      "source": [
        "values = [i for i in range(20)]\n",
        "df = df.sample(frac = 1)\n",
        "x = int (0.8 * df.shape[0] )\n",
        "train_data = df[: x]\n",
        "test_data = df[ x : ]\n",
        "accuracies = []\n",
        "for i in values:\n",
        "  root = build_tree(train_data, i, criterion = \"entropy\")\n",
        "  accuracyy = accuracy(root, test_data)\n",
        "  accuracies.append(accuracyy)\n",
        "xmax = values[accuracies.index(max(accuracies))]\n",
        "ymax = max(accuracies)\n",
        "plt.plot(values, accuracies)\n",
        "plt.xlabel(\"Height of the tree\")\n",
        "plt.ylabel(\"Accuracy ( Using Information Gain )\")\n",
        "plt.plot(xmax, ymax, 'go')\n",
        "plt.text(xmax, ymax + 0.01, \"({}, {})\".format(xmax, round(ymax, 2)))"
      ],
      "execution_count": 139,
      "outputs": [
        {
          "output_type": "execute_result",
          "data": {
            "text/plain": [
              "Text(5, 0.9406358381502891, '(5, 0.93)')"
            ]
          },
          "metadata": {},
          "execution_count": 139
        },
        {
          "output_type": "display_data",
          "data": {
            "image/png": "[encoded data removed]",
            "text/plain": [
              "<Figure size 432x288 with 1 Axes>"
            ]
          },
          "metadata": {
            "needs_background": "light"
          }
        }
      ]
    },
    {
      "cell_type": "markdown",
      "metadata": {
        "id": "xluyRDdnuSWl"
      },
      "source": [
        "### 3.2 Plot: Accuracy vs Number of Nodes "
      ]
    },
    {
      "cell_type": "markdown",
      "metadata": {
        "id": "WUQfwn4tCkb7"
      },
      "source": [
        "#### Using Gini Index"
      ]
    },
    {
      "cell_type": "code",
      "metadata": {
        "colab": {
          "base_uri": "https://localhost:8080/",
          "height": 306
        },
        "id": "Lr2JuY4H_Glu",
        "outputId": "80df9f8e-ca6e-4e09-82e5-d1da0d3095b6"
      },
      "source": [
        "values = []\n",
        "accuracies = []\n",
        "df = df.sample(frac = 1)\n",
        "x = int (0.8 * df.shape[0] )\n",
        "train_data = df[: x]\n",
        "test_data = df[ x : ]\n",
        "for i in range(20):\n",
        "  root = build_tree(train_data, i)\n",
        "  accuracyy = accuracy(root, test_data)\n",
        "  values.append(root['subtree size'])\n",
        "  accuracies.append(accuracyy)\n",
        "xmax = values[accuracies.index(max(accuracies))]\n",
        "ymax = max(accuracies)\n",
        "plt.plot(values, accuracies)\n",
        "plt.xlabel(\"Number of nodes\")\n",
        "plt.ylabel(\"Accuracy (Using Gini Index) \")\n",
        "plt.plot(xmax, ymax, 'ro')\n",
        "plt.text(xmax, ymax + 0.01, \"({}, {})\".format(xmax, round(ymax, 2)))"
      ],
      "execution_count": 140,
      "outputs": [
        {
          "output_type": "execute_result",
          "data": {
            "text/plain": [
              "Text(208, 0.9232947976878613, '(208, 0.91)')"
            ]
          },
          "metadata": {},
          "execution_count": 140
        },
        {
          "output_type": "display_data",
          "data": {
            "image/png": "[encoded data removed]",
            "text/plain": [
              "<Figure size 432x288 with 1 Axes>"
            ]
          },
          "metadata": {
            "needs_background": "light"
          }
        }
      ]
    },
    {
      "cell_type": "markdown",
      "metadata": {
        "id": "Cr1bCA3GCo9c"
      },
      "source": [
        "#### Using Entropy"
      ]
    },
    {
      "cell_type": "code",
      "metadata": {
        "colab": {
          "base_uri": "https://localhost:8080/",
          "height": 304
        },
        "id": "ozuvrrt-CoVh",
        "outputId": "ba579884-60c3-4128-8455-03263b4321c1"
      },
      "source": [
        "values = []\n",
        "accuracies = []\n",
        "df = df.sample(frac = 1)\n",
        "x = int (0.8 * df.shape[0] )\n",
        "train_data = df[: x]\n",
        "test_data = df[ x : ]\n",
        "for i in range(20):\n",
        "  root = build_tree(train_data, i, criterion = \"entropy\")\n",
        "  accuracyy = accuracy(root, test_data)\n",
        "  values.append(root['subtree size'])\n",
        "  accuracies.append(accuracyy)\n",
        "xmax = values[accuracies.index(max(accuracies))]\n",
        "ymax = max(accuracies)\n",
        "plt.plot(values, accuracies)\n",
        "plt.xlabel(\"Number of nodes\")\n",
        "plt.ylabel(\"Accuracy (Using Information Gain)\")\n",
        "plt.plot(xmax, ymax, 'ro')\n",
        "plt.text(xmax, ymax + 0.01, \"({}, {})\".format(xmax, round(ymax, 2)))"
      ],
      "execution_count": 141,
      "outputs": [
        {
          "output_type": "execute_result",
          "data": {
            "text/plain": [
              "Text(214, 0.9435260115606936, '(214, 0.93)')"
            ]
          },
          "metadata": {},
          "execution_count": 141
        },
        {
          "output_type": "display_data",
          "data": {
            "image/png": "[encoded data removed]",
            "text/plain": [
              "<Figure size 432x288 with 1 Axes>"
            ]
          },
          "metadata": {
            "needs_background": "light"
          }
        }
      ]
    },
    {
      "cell_type": "markdown",
      "metadata": {
        "id": "rgnKUpZzwmz2"
      },
      "source": [
        "## 4. Pruning the Tree"
      ]
    },
    {
      "cell_type": "code",
      "metadata": {
        "colab": {
          "base_uri": "https://localhost:8080/"
        },
        "id": "ila4HHGptk7O",
        "outputId": "75ea4bbc-da84-4883-c6fa-a8f987b197ba"
      },
      "source": [
        "newRoot = pruneTreeStatisticalMethod(best_tree)"
      ],
      "execution_count": 153,
      "outputs": [
        {
          "output_type": "stream",
          "name": "stdout",
          "text": [
            "Pruned Children of Node with split column as med\n",
            "Pruned Children of Node with split column as med\n",
            "Pruned Children of Node with split column as med\n",
            "Pruned Children of Node with split column as med\n",
            "Pruned Children of Node with split column as med\n",
            "Pruned Children of Node with split column as 2\n",
            "Pruned Children of Node with split column as 2\n",
            "Pruned Children of Node with split column as 2\n",
            "Pruned Children of Node with split column as med\n",
            "Pruned Children of Node with split column as small\n",
            "Pruned Children of Node with split column as small\n",
            "Pruned Children of Node with split column as med\n",
            "Pruned Children of Node with split column as 2\n",
            "Pruned Children of Node with split column as 2\n",
            "Pruned Children of Node with split column as small\n",
            "Pruned Children of Node with split column as med\n",
            "Pruned Children of Node with split column as small\n",
            "Pruned Children of Node with split column as med\n",
            "Pruned Children of Node with split column as small\n",
            "Pruned Children of Node with split column as med\n",
            "Pruned Children of Node with split column as 2\n",
            "Pruned Children of Node with split column as 2\n",
            "Pruned Children of Node with split column as med\n",
            "Pruned Children of Node with split column as med\n",
            "Pruned Children of Node with split column as med\n",
            "Pruned Children of Node with split column as med\n",
            "Pruned Children of Node with split column as med\n",
            "Pruned Children of Node with split column as med\n",
            "Pruned Children of Node with split column as 5more\n",
            "Pruned Children of Node with split column as med\n",
            "Pruned Children of Node with split column as big\n",
            "Pruned Children of Node with split column as 5more\n",
            "Pruned Children of Node with split column as 4\n",
            "Pruned Children of Node with split column as low\n",
            "Pruned Children of Node with split column as med\n",
            "Pruned Children of Node with split column as high\n",
            "Pruned Children of Node with split column as low\n",
            "Pruned Children of Node with split column as vhigh\n",
            "Pruned Children of Node with split column as high\n",
            "Pruned Children of Node with split column as med\n",
            "Pruned Children of Node with split column as low\n",
            "Pruned Children of Node with split column as 3\n",
            "Pruned Children of Node with split column as 4\n",
            "Pruned Children of Node with split column as med\n",
            "Pruned Children of Node with split column as low\n",
            "Pruned Children of Node with split column as vhigh\n",
            "Pruned Children of Node with split column as low\n",
            "Pruned Children of Node with split column as med\n",
            "Pruned Children of Node with split column as low\n",
            "Pruned Children of Node with split column as high\n",
            "Pruned Children of Node with split column as vhigh\n",
            "Pruned Children of Node with split column as low\n",
            "Pruned Children of Node with split column as med\n",
            "Pruned Children of Node with split column as high\n",
            "Pruned Children of Node with split column as low\n",
            "Pruned Children of Node with split column as med\n",
            "Pruned Children of Node with split column as low\n",
            "Pruned Children of Node with split column as high\n",
            "Pruned Children of Node with split column as med\n",
            "Pruned Children of Node with split column as med\n",
            "Pruned Children of Node with split column as low\n",
            "Pruned Children of Node with split column as vhigh\n",
            "Pruned Children of Node with split column as high\n",
            "Pruned Children of Node with split column as med\n",
            "Pruned Children of Node with split column as low\n",
            "Pruned Children of Node with split column as high\n",
            "Pruned Children of Node with split column as vhigh\n",
            "Pruned Children of Node with split column as med\n",
            "Pruned Children of Node with split column as low\n",
            "Pruned Children of Node with split column as med\n",
            "Pruned Children of Node with split column as high\n",
            "Pruned Children of Node with split column as vhigh\n",
            "Pruned Children of Node with split column as low\n",
            "Pruned Children of Node with split column as med\n",
            "Pruned Children of Node with split column as low\n",
            "Pruned Children of Node with split column as vhigh\n",
            "Pruned Children of Node with split column as med\n",
            "Pruned Children of Node with split column as low\n",
            "Pruned Children of Node with split column as med\n",
            "Pruned Children of Node with split column as high\n",
            "Pruned Children of Node with split column as low\n",
            "Pruned Children of Node with split column as vhigh\n",
            "Pruned Children of Node with split column as med\n",
            "Pruned Children of Node with split column as vhigh\n",
            "Pruned Children of Node with split column as small\n"
          ]
        }
      ]
    },
    {
      "cell_type": "code",
      "metadata": {
        "id": "CzkG_bfAg5li",
        "colab": {
          "base_uri": "https://localhost:8080/"
        },
        "outputId": "5cc095bf-5778-492b-822f-480f5895490e"
      },
      "source": [
        "accuracy(newRoot, validation_data)"
      ],
      "execution_count": 156,
      "outputs": [
        {
          "output_type": "execute_result",
          "data": {
            "text/plain": [
              "0.9017341040462428"
            ]
          },
          "metadata": {},
          "execution_count": 156
        }
      ]
    },
    {
      "cell_type": "code",
      "metadata": {
        "colab": {
          "base_uri": "https://localhost:8080/"
        },
        "id": "BOBcfhn9I5hU",
        "outputId": "3751b978-d924-4513-847c-efd6ef63c02f"
      },
      "source": [
        "newCvroot = pruneTreeCV(best_tree, validation_data)\n",
        "acc = accuracy(newRoot, validation_data)\n",
        "print(acc)"
      ],
      "execution_count": 175,
      "outputs": [
        {
          "output_type": "stream",
          "name": "stdout",
          "text": [
            "Final Accuracy:  0.9190751445086706\n",
            "0.9190751445086706\n"
          ]
        }
      ]
    },
    {
      "cell_type": "markdown",
      "metadata": {
        "id": "MQHi1q1zyvpd"
      },
      "source": [
        "## 5. Print the test with maximum Accuracy"
      ]
    },
    {
      "cell_type": "code",
      "metadata": {
        "colab": {
          "base_uri": "https://localhost:8080/"
        },
        "id": "cExF10odyl0E",
        "outputId": "14f9dbc4-c784-462f-c907-aa820bfc509e"
      },
      "source": [
        "printTree(best_tree)"
      ],
      "execution_count": null,
      "outputs": [
        {
          "output_type": "stream",
          "name": "stdout",
          "text": [
            "Column: safety , Gain: 0.38142868469429725 , Samples: 1382\n",
            "safety == high: \n",
            "\tColumn: persons , Gain: 0.43791646147529195 , Samples: 461\n",
            "\tpersons == more: \n",
            "\t\tColumn: buying , Gain: 0.5558199991178583 , Samples: 155\n",
            "\t\tbuying == high: \n",
            "\t\t\tColumn: maint , Gain: 0.0946305156831473 , Samples: 38\n",
            "\t\t\tmaint == vhigh: \n",
            "\t\t\t\tPrediction:  unacc\n",
            "\t\t\tmaint == low: \n",
            "\t\t\t\tPrediction:  acc\n",
            "\t\t\tmaint == high: \n",
            "\t\t\t\tPrediction:  acc\n",
            "\t\t\tmaint == med: \n",
            "\t\t\t\tPrediction:  acc\n",
            "\t\tbuying == med: \n",
            "\t\t\tColumn: maint , Gain: 0.3454545454545455 , Samples: 41\n",
            "\t\t\tmaint == med: \n",
            "\t\t\t\tPrediction:  vgood\n",
            "\t\t\tmaint == vhigh: \n",
            "\t\t\t\tPrediction:  acc\n",
            "\t\t\tmaint == high: \n",
            "\t\t\t\tPrediction:  acc\n",
            "\t\t\tmaint == low: \n",
            "\t\t\t\tPrediction:  vgood\n",
            "\t\tbuying == vhigh: \n",
            "\t\t\tColumn: maint , Gain: 0.09324009324009329 , Samples: 39\n",
            "\t\t\tmaint == high: \n",
            "\t\t\t\tPrediction:  unacc\n",
            "\t\t\tmaint == med: \n",
            "\t\t\t\tPrediction:  acc\n",
            "\t\t\tmaint == vhigh: \n",
            "\t\t\t\tPrediction:  unacc\n",
            "\t\t\tmaint == low: \n",
            "\t\t\t\tPrediction:  acc\n",
            "\t\tbuying == low: \n",
            "\t\t\tColumn: maint , Gain: 0.41966966966966973 , Samples: 37\n",
            "\t\t\tmaint == low: \n",
            "\t\t\t\tPrediction:  vgood\n",
            "\t\t\tmaint == med: \n",
            "\t\t\t\tPrediction:  vgood\n",
            "\t\t\tmaint == vhigh: \n",
            "\t\t\t\tPrediction:  acc\n",
            "\t\t\tmaint == high: \n",
            "\t\t\t\tPrediction:  vgood\n",
            "\tpersons == 2: \n",
            "\t\tPrediction:  unacc\n",
            "\tpersons == 4: \n",
            "\t\tColumn: buying , Gain: 0.522836884398973 , Samples: 159\n",
            "\t\tbuying == vhigh: \n",
            "\t\t\tColumn: maint , Gain: 0.0 , Samples: 37\n",
            "\t\t\tmaint == low: \n",
            "\t\t\t\tPrediction:  acc\n",
            "\t\t\tmaint == vhigh: \n",
            "\t\t\t\tPrediction:  unacc\n",
            "\t\t\tmaint == med: \n",
            "\t\t\t\tPrediction:  acc\n",
            "\t\t\tmaint == high: \n",
            "\t\t\t\tPrediction:  unacc\n",
            "\t\tbuying == low: \n",
            "\t\t\tColumn: maint , Gain: 0.37209302325581395 , Samples: 43\n",
            "\t\t\tmaint == vhigh: \n",
            "\t\t\t\tPrediction:  acc\n",
            "\t\t\tmaint == high: \n",
            "\t\t\t\tPrediction:  acc\n",
            "\t\t\tmaint == med: \n",
            "\t\t\t\tPrediction:  vgood\n",
            "\t\t\tmaint == low: \n",
            "\t\t\t\tPrediction:  good\n",
            "\t\tbuying == med: \n",
            "\t\t\tColumn: maint , Gain: 0.22857142857142854 , Samples: 42\n",
            "\t\t\tmaint == vhigh: \n",
            "\t\t\t\tPrediction:  acc\n",
            "\t\t\tmaint == high: \n",
            "\t\t\t\tPrediction:  acc\n",
            "\t\t\tmaint == med: \n",
            "\t\t\t\tPrediction:  vgood\n",
            "\t\t\tmaint == low: \n",
            "\t\t\t\tPrediction:  vgood\n",
            "\t\tbuying == high: \n",
            "\t\t\tColumn: maint , Gain: 0.0 , Samples: 37\n",
            "\t\t\tmaint == low: \n",
            "\t\t\t\tPrediction:  acc\n",
            "\t\t\tmaint == med: \n",
            "\t\t\t\tPrediction:  acc\n",
            "\t\t\tmaint == high: \n",
            "\t\t\t\tPrediction:  acc\n",
            "\t\t\tmaint == vhigh: \n",
            "\t\t\t\tPrediction:  unacc\n",
            "safety == med: \n",
            "\tColumn: persons , Gain: 0.3909070082972797 , Samples: 452\n",
            "\tpersons == more: \n",
            "\t\tColumn: luggage_boot , Gain: 0.4868428982331189 , Samples: 149\n",
            "\t\tluggage_boot == med: \n",
            "\t\t\tColumn: maint , Gain: 0.4781827016520893 , Samples: 49\n",
            "\t\t\tmaint == low: \n",
            "\t\t\t\tPrediction:  acc\n",
            "\t\t\tmaint == vhigh: \n",
            "\t\t\t\tPrediction:  unacc\n",
            "\t\t\tmaint == high: \n",
            "\t\t\t\tPrediction:  acc\n",
            "\t\t\tmaint == med: \n",
            "\t\t\t\tPrediction:  acc\n",
            "\t\tluggage_boot == big: \n",
            "\t\t\tColumn: maint , Gain: 0.3917948717948717 , Samples: 50\n",
            "\t\t\tmaint == vhigh: \n",
            "\t\t\t\tPrediction:  acc\n",
            "\t\t\tmaint == high: \n",
            "\t\t\t\tPrediction:  acc\n",
            "\t\t\tmaint == med: \n",
            "\t\t\t\tPrediction:  acc\n",
            "\t\t\tmaint == low: \n",
            "\t\t\t\tPrediction:  good\n",
            "\t\tluggage_boot == small: \n",
            "\t\t\tPrediction:  unacc\n",
            "\tpersons == 2: \n",
            "\t\tPrediction:  unacc\n",
            "\tpersons == 4: \n",
            "\t\tColumn: buying , Gain: 0.4735462049513251 , Samples: 154\n",
            "\t\tbuying == low: \n",
            "\t\t\tColumn: maint , Gain: 0.3655603655603656 , Samples: 42\n",
            "\t\t\tmaint == low: \n",
            "\t\t\t\tPrediction:  acc\n",
            "\t\t\tmaint == high: \n",
            "\t\t\t\tPrediction:  acc\n",
            "\t\t\tmaint == vhigh: \n",
            "\t\t\t\tPrediction:  unacc\n",
            "\t\t\tmaint == med: \n",
            "\t\t\t\tPrediction:  good\n",
            "\t\tbuying == med: \n",
            "\t\t\tColumn: maint , Gain: 0.36808905380333956 , Samples: 35\n",
            "\t\t\tmaint == med: \n",
            "\t\t\t\tPrediction:  acc\n",
            "\t\t\tmaint == low: \n",
            "\t\t\t\tPrediction:  acc\n",
            "\t\t\tmaint == vhigh: \n",
            "\t\t\t\tPrediction:  unacc\n",
            "\t\t\tmaint == high: \n",
            "\t\t\t\tPrediction:  unacc\n",
            "\t\tbuying == vhigh: \n",
            "\t\t\tPrediction:  unacc\n",
            "\t\tbuying == high: \n",
            "\t\t\tColumn: luggage_boot , Gain: 0.3102240896358543 , Samples: 34\n",
            "\t\t\tluggage_boot == small: \n",
            "\t\t\t\tPrediction:  unacc\n",
            "\t\t\tluggage_boot == big: \n",
            "\t\t\t\tPrediction:  acc\n",
            "\t\t\tluggage_boot == med: \n",
            "\t\t\t\tPrediction:  unacc\n",
            "safety == low: \n",
            "\tPrediction:  unacc\n"
          ]
        }
      ]
    },
    {
      "cell_type": "code",
      "metadata": {
        "id": "bt4vv2ElXijy"
      },
      "source": [
        ""
      ],
      "execution_count": null,
      "outputs": []
    }
  ]
}